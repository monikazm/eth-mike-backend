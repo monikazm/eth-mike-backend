{
 "cells": [
  {
   "cell_type": "code",
   "execution_count": 1,
   "id": "f470eb2d-b2fd-4960-a22a-600f1dfe2ad3",
   "metadata": {},
   "outputs": [],
   "source": [
    "# import\n",
    "from nptdms import TdmsFile # https://nptdms.readthedocs.io/en/stable/\n",
    "from matplotlib import pyplot as plt\n",
    "import numpy as np\n",
    "%matplotlib widget"
   ]
  },
  {
   "cell_type": "code",
   "execution_count": 16,
   "id": "81beefb3-c8fd-4351-a955-a6ca54e41786",
   "metadata": {},
   "outputs": [
    {
     "name": "stdout",
     "output_type": "stream",
     "text": [
      "maximum Torque = 0.8092829952684651 maximum current = 5.907175147945001\n",
      "minimum Torque = -0.016401972671619913 minimum current = -0.11972242825999935\n"
     ]
    }
   ],
   "source": [
    "file = TdmsFile.read(\"tdms_files/\"+\"Mike3_maxAcc3.tdms\")\n",
    "current = file[\"maxAcc\"][\"Current [A]\"][:]\n",
    "\n",
    "max_current = max(current)\n",
    "min_current = min(current)\n",
    "\n",
    "torque_constant = 0.137  # Mike6: 0.0302 Nm/A; Mike1-5 & 7: 0.137 Nm/A\n",
    "\n",
    "maxTorque = max_current*torque_constant\n",
    "minTorque = min_current*torque_constant\n",
    "\n",
    "print(\"maximum Torque =\", maxTorque, \"maximum current =\", max_current)\n",
    "print(\"minimum Torque =\", minTorque, \"minimum current =\", min_current)"
   ]
  }
 ],
 "metadata": {
  "kernelspec": {
   "display_name": "Python 3",
   "language": "python",
   "name": "python3"
  },
  "language_info": {
   "codemirror_mode": {
    "name": "ipython",
    "version": 3
   },
   "file_extension": ".py",
   "mimetype": "text/x-python",
   "name": "python",
   "nbconvert_exporter": "python",
   "pygments_lexer": "ipython3",
   "version": "3.8.8"
  }
 },
 "nbformat": 4,
 "nbformat_minor": 5
}
